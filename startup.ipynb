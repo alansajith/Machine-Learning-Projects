{
 "cells": [
  {
   "cell_type": "markdown",
   "id": "f9d87b33",
   "metadata": {
    "papermill": {
     "duration": 0.00287,
     "end_time": "2024-02-28T13:18:57.100929",
     "exception": false,
     "start_time": "2024-02-28T13:18:57.098059",
     "status": "completed"
    },
    "tags": []
   },
   "source": []
  },
  {
   "cell_type": "markdown",
   "id": "755dfa84",
   "metadata": {
    "papermill": {
     "duration": 0.002268,
     "end_time": "2024-02-28T13:18:57.105661",
     "exception": false,
     "start_time": "2024-02-28T13:18:57.103393",
     "status": "completed"
    },
    "tags": []
   },
   "source": [
    "# Multiple linear regression"
   ]
  },
  {
   "cell_type": "code",
   "execution_count": 1,
   "id": "d812f2ea",
   "metadata": {
    "execution": {
     "iopub.execute_input": "2024-02-28T13:18:57.111871Z",
     "iopub.status.busy": "2024-02-28T13:18:57.111563Z",
     "iopub.status.idle": "2024-02-28T13:18:57.917700Z",
     "shell.execute_reply": "2024-02-28T13:18:57.916419Z"
    },
    "papermill": {
     "duration": 0.812057,
     "end_time": "2024-02-28T13:18:57.919968",
     "exception": false,
     "start_time": "2024-02-28T13:18:57.107911",
     "status": "completed"
    },
    "tags": []
   },
   "outputs": [],
   "source": [
    "#Importing the libraries\n",
    "import pandas as pd\n",
    "import numpy as np\n",
    "import matplotlib.pyplot as plt"
   ]
  },
  {
   "cell_type": "code",
   "execution_count": 2,
   "id": "0eb5b296",
   "metadata": {
    "execution": {
     "iopub.execute_input": "2024-02-28T13:18:57.926823Z",
     "iopub.status.busy": "2024-02-28T13:18:57.926357Z",
     "iopub.status.idle": "2024-02-28T13:18:57.953304Z",
     "shell.execute_reply": "2024-02-28T13:18:57.952370Z"
    },
    "papermill": {
     "duration": 0.033166,
     "end_time": "2024-02-28T13:18:57.955721",
     "exception": false,
     "start_time": "2024-02-28T13:18:57.922555",
     "status": "completed"
    },
    "tags": []
   },
   "outputs": [],
   "source": [
    "#importing the dataset\n",
    "dataset=pd.read_csv(\"/kaggle/input/startups/50_Startups.csv\")\n",
    "x=dataset.iloc[:,:-1].values \n",
    "y=dataset.iloc[:,-1].values \n",
    "\n",
    "\n",
    "\n",
    "\n"
   ]
  },
  {
   "cell_type": "code",
   "execution_count": 3,
   "id": "c30dbd93",
   "metadata": {
    "execution": {
     "iopub.execute_input": "2024-02-28T13:18:57.962314Z",
     "iopub.status.busy": "2024-02-28T13:18:57.961994Z",
     "iopub.status.idle": "2024-02-28T13:18:59.169469Z",
     "shell.execute_reply": "2024-02-28T13:18:59.168540Z"
    },
    "papermill": {
     "duration": 1.213447,
     "end_time": "2024-02-28T13:18:59.171848",
     "exception": false,
     "start_time": "2024-02-28T13:18:57.958401",
     "status": "completed"
    },
    "tags": []
   },
   "outputs": [],
   "source": [
    "#encoding categorical data\n",
    "from sklearn.compose import ColumnTransformer\n",
    "from sklearn.preprocessing import OneHotEncoder\n",
    "ct=ColumnTransformer(transformers=[('encoder',OneHotEncoder(),[3])],remainder='passthrough')\n",
    "x=np.array(ct.fit_transform(x))\n",
    "\n",
    "\n"
   ]
  },
  {
   "cell_type": "code",
   "execution_count": 4,
   "id": "732cf522",
   "metadata": {
    "execution": {
     "iopub.execute_input": "2024-02-28T13:18:59.178615Z",
     "iopub.status.busy": "2024-02-28T13:18:59.178219Z",
     "iopub.status.idle": "2024-02-28T13:18:59.291930Z",
     "shell.execute_reply": "2024-02-28T13:18:59.291005Z"
    },
    "papermill": {
     "duration": 0.119512,
     "end_time": "2024-02-28T13:18:59.294058",
     "exception": false,
     "start_time": "2024-02-28T13:18:59.174546",
     "status": "completed"
    },
    "tags": []
   },
   "outputs": [],
   "source": [
    "#splitting the dataset into training and test test\n",
    "from sklearn.model_selection import train_test_split\n",
    "x_train,x_test,y_train,y_test=train_test_split(x,y,test_size=0.2,random_state=0)\n"
   ]
  },
  {
   "cell_type": "code",
   "execution_count": 5,
   "id": "6de2ff60",
   "metadata": {
    "execution": {
     "iopub.execute_input": "2024-02-28T13:18:59.301435Z",
     "iopub.status.busy": "2024-02-28T13:18:59.301110Z",
     "iopub.status.idle": "2024-02-28T13:18:59.418761Z",
     "shell.execute_reply": "2024-02-28T13:18:59.417456Z"
    },
    "papermill": {
     "duration": 0.123581,
     "end_time": "2024-02-28T13:18:59.420625",
     "exception": false,
     "start_time": "2024-02-28T13:18:59.297044",
     "status": "completed"
    },
    "tags": []
   },
   "outputs": [
    {
     "data": {
      "text/html": [
       "<style>#sk-container-id-1 {color: black;background-color: white;}#sk-container-id-1 pre{padding: 0;}#sk-container-id-1 div.sk-toggleable {background-color: white;}#sk-container-id-1 label.sk-toggleable__label {cursor: pointer;display: block;width: 100%;margin-bottom: 0;padding: 0.3em;box-sizing: border-box;text-align: center;}#sk-container-id-1 label.sk-toggleable__label-arrow:before {content: \"▸\";float: left;margin-right: 0.25em;color: #696969;}#sk-container-id-1 label.sk-toggleable__label-arrow:hover:before {color: black;}#sk-container-id-1 div.sk-estimator:hover label.sk-toggleable__label-arrow:before {color: black;}#sk-container-id-1 div.sk-toggleable__content {max-height: 0;max-width: 0;overflow: hidden;text-align: left;background-color: #f0f8ff;}#sk-container-id-1 div.sk-toggleable__content pre {margin: 0.2em;color: black;border-radius: 0.25em;background-color: #f0f8ff;}#sk-container-id-1 input.sk-toggleable__control:checked~div.sk-toggleable__content {max-height: 200px;max-width: 100%;overflow: auto;}#sk-container-id-1 input.sk-toggleable__control:checked~label.sk-toggleable__label-arrow:before {content: \"▾\";}#sk-container-id-1 div.sk-estimator input.sk-toggleable__control:checked~label.sk-toggleable__label {background-color: #d4ebff;}#sk-container-id-1 div.sk-label input.sk-toggleable__control:checked~label.sk-toggleable__label {background-color: #d4ebff;}#sk-container-id-1 input.sk-hidden--visually {border: 0;clip: rect(1px 1px 1px 1px);clip: rect(1px, 1px, 1px, 1px);height: 1px;margin: -1px;overflow: hidden;padding: 0;position: absolute;width: 1px;}#sk-container-id-1 div.sk-estimator {font-family: monospace;background-color: #f0f8ff;border: 1px dotted black;border-radius: 0.25em;box-sizing: border-box;margin-bottom: 0.5em;}#sk-container-id-1 div.sk-estimator:hover {background-color: #d4ebff;}#sk-container-id-1 div.sk-parallel-item::after {content: \"\";width: 100%;border-bottom: 1px solid gray;flex-grow: 1;}#sk-container-id-1 div.sk-label:hover label.sk-toggleable__label {background-color: #d4ebff;}#sk-container-id-1 div.sk-serial::before {content: \"\";position: absolute;border-left: 1px solid gray;box-sizing: border-box;top: 0;bottom: 0;left: 50%;z-index: 0;}#sk-container-id-1 div.sk-serial {display: flex;flex-direction: column;align-items: center;background-color: white;padding-right: 0.2em;padding-left: 0.2em;position: relative;}#sk-container-id-1 div.sk-item {position: relative;z-index: 1;}#sk-container-id-1 div.sk-parallel {display: flex;align-items: stretch;justify-content: center;background-color: white;position: relative;}#sk-container-id-1 div.sk-item::before, #sk-container-id-1 div.sk-parallel-item::before {content: \"\";position: absolute;border-left: 1px solid gray;box-sizing: border-box;top: 0;bottom: 0;left: 50%;z-index: -1;}#sk-container-id-1 div.sk-parallel-item {display: flex;flex-direction: column;z-index: 1;position: relative;background-color: white;}#sk-container-id-1 div.sk-parallel-item:first-child::after {align-self: flex-end;width: 50%;}#sk-container-id-1 div.sk-parallel-item:last-child::after {align-self: flex-start;width: 50%;}#sk-container-id-1 div.sk-parallel-item:only-child::after {width: 0;}#sk-container-id-1 div.sk-dashed-wrapped {border: 1px dashed gray;margin: 0 0.4em 0.5em 0.4em;box-sizing: border-box;padding-bottom: 0.4em;background-color: white;}#sk-container-id-1 div.sk-label label {font-family: monospace;font-weight: bold;display: inline-block;line-height: 1.2em;}#sk-container-id-1 div.sk-label-container {text-align: center;}#sk-container-id-1 div.sk-container {/* jupyter's `normalize.less` sets `[hidden] { display: none; }` but bootstrap.min.css set `[hidden] { display: none !important; }` so we also need the `!important` here to be able to override the default hidden behavior on the sphinx rendered scikit-learn.org. See: https://github.com/scikit-learn/scikit-learn/issues/21755 */display: inline-block !important;position: relative;}#sk-container-id-1 div.sk-text-repr-fallback {display: none;}</style><div id=\"sk-container-id-1\" class=\"sk-top-container\"><div class=\"sk-text-repr-fallback\"><pre>LinearRegression()</pre><b>In a Jupyter environment, please rerun this cell to show the HTML representation or trust the notebook. <br />On GitHub, the HTML representation is unable to render, please try loading this page with nbviewer.org.</b></div><div class=\"sk-container\" hidden><div class=\"sk-item\"><div class=\"sk-estimator sk-toggleable\"><input class=\"sk-toggleable__control sk-hidden--visually\" id=\"sk-estimator-id-1\" type=\"checkbox\" checked><label for=\"sk-estimator-id-1\" class=\"sk-toggleable__label sk-toggleable__label-arrow\">LinearRegression</label><div class=\"sk-toggleable__content\"><pre>LinearRegression()</pre></div></div></div></div></div>"
      ],
      "text/plain": [
       "LinearRegression()"
      ]
     },
     "execution_count": 5,
     "metadata": {},
     "output_type": "execute_result"
    }
   ],
   "source": [
    "#training the MLR model on the training set \n",
    "from sklearn.linear_model import LinearRegression\n",
    "regressor=LinearRegression()\n",
    "regressor.fit(x_train,y_train)\n"
   ]
  },
  {
   "cell_type": "code",
   "execution_count": 6,
   "id": "ff2a4a40",
   "metadata": {
    "execution": {
     "iopub.execute_input": "2024-02-28T13:18:59.427197Z",
     "iopub.status.busy": "2024-02-28T13:18:59.426908Z",
     "iopub.status.idle": "2024-02-28T13:18:59.433207Z",
     "shell.execute_reply": "2024-02-28T13:18:59.431851Z"
    },
    "papermill": {
     "duration": 0.012351,
     "end_time": "2024-02-28T13:18:59.435664",
     "exception": false,
     "start_time": "2024-02-28T13:18:59.423313",
     "status": "completed"
    },
    "tags": []
   },
   "outputs": [
    {
     "name": "stdout",
     "output_type": "stream",
     "text": [
      "[[103015.2  103282.38]\n",
      " [132582.28 144259.4 ]\n",
      " [132447.74 146121.95]\n",
      " [ 71976.1   77798.83]\n",
      " [178537.48 191050.39]\n",
      " [116161.24 105008.31]\n",
      " [ 67851.69  81229.06]\n",
      " [ 98791.73  97483.56]\n",
      " [113969.44 110352.25]\n",
      " [167921.07 166187.94]]\n"
     ]
    }
   ],
   "source": [
    "#predicting the test results\n",
    "y_pred=regressor.predict(x_test)\n",
    "np.set_printoptions(precision=2)\n",
    "print(np.concatenate((y_pred.reshape(len(y_pred),1),y_test.reshape(len(y_test),1)),1))"
   ]
  },
  {
   "cell_type": "code",
   "execution_count": 7,
   "id": "80350d72",
   "metadata": {
    "execution": {
     "iopub.execute_input": "2024-02-28T13:18:59.442959Z",
     "iopub.status.busy": "2024-02-28T13:18:59.442626Z",
     "iopub.status.idle": "2024-02-28T13:18:59.448990Z",
     "shell.execute_reply": "2024-02-28T13:18:59.447842Z"
    },
    "papermill": {
     "duration": 0.012521,
     "end_time": "2024-02-28T13:18:59.451234",
     "exception": false,
     "start_time": "2024-02-28T13:18:59.438713",
     "status": "completed"
    },
    "tags": []
   },
   "outputs": [
    {
     "name": "stdout",
     "output_type": "stream",
     "text": [
      "Mean Squared Error (MSE): 83.0\n"
     ]
    }
   ],
   "source": [
    "from sklearn.metrics import mean_squared_error, mean_absolute_error\n",
    "\n",
    "\n",
    "mse = mean_squared_error(y_test, y_pred)\n",
    "print(\"Mean Squared Error (MSE):\", mse//1000000)\n"
   ]
  }
 ],
 "metadata": {
  "kaggle": {
   "accelerator": "none",
   "dataSources": [
    {
     "datasetId": 4492964,
     "sourceId": 7697640,
     "sourceType": "datasetVersion"
    }
   ],
   "dockerImageVersionId": 30646,
   "isGpuEnabled": false,
   "isInternetEnabled": false,
   "language": "python",
   "sourceType": "notebook"
  },
  "kernelspec": {
   "display_name": "Python 3",
   "language": "python",
   "name": "python3"
  },
  "language_info": {
   "codemirror_mode": {
    "name": "ipython",
    "version": 3
   },
   "file_extension": ".py",
   "mimetype": "text/x-python",
   "name": "python",
   "nbconvert_exporter": "python",
   "pygments_lexer": "ipython3",
   "version": "3.10.13"
  },
  "papermill": {
   "default_parameters": {},
   "duration": 7.904052,
   "end_time": "2024-02-28T13:19:02.644676",
   "environment_variables": {},
   "exception": null,
   "input_path": "__notebook__.ipynb",
   "output_path": "__notebook__.ipynb",
   "parameters": {},
   "start_time": "2024-02-28T13:18:54.740624",
   "version": "2.5.0"
  }
 },
 "nbformat": 4,
 "nbformat_minor": 5
}
